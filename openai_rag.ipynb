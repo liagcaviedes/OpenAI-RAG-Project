{
 "cells": [
  {
   "cell_type": "markdown",
   "metadata": {},
   "source": [
    "# PROYECTO OPEN AI RAG "
   ]
  },
  {
   "cell_type": "code",
   "execution_count": null,
   "metadata": {},
   "outputs": [],
   "source": [
    "#pip install langchain langchain_openai gradio chromadb pypdf"
   ]
  },
  {
   "cell_type": "code",
   "execution_count": null,
   "metadata": {},
   "outputs": [],
   "source": [
    "# pip install -U langchain-community"
   ]
  },
  {
   "cell_type": "code",
   "execution_count": 9,
   "metadata": {},
   "outputs": [],
   "source": [
    "pdf1 = r\"https://www.boe.es/boe/dias/2022/09/29/pdfs/BOE-A-2022-15818.pdf\"\n",
    "pdf2 = r\"https://www.camara.es/sites/default/files/publicaciones/fiscalidad03.pdf\"\n",
    "pdf3 = r\"https://mpt.gob.es/dam/es/portal/delegaciones_gobierno/delegaciones/madrid/proyectos-ci/Guia-de-Subvenciones-y-Ayudas/231103_Guia_de_Subvenciones_Ayudas_PRTR.pdf.pdf\"\n",
    "pdf4 = r\"https://boe.es/buscar/pdf/2014/BOE-A-2014-12328-consolidado.pdf\"\n",
    "pdf5 = r\"https://www.aepd.es/guias/gestion-riesgo-y-evaluacion-impacto-en-tratamientos-datos-personales.pdf\"\n",
    "pdf6 = r\"https://ipyme.org/PUBLICACIONES_EMPRESAS/Ciclo%20Vital%20de%20la%20Empresa/CreacionEmpresas.pdf\""
   ]
  },
  {
   "cell_type": "markdown",
   "metadata": {},
   "source": [
    "#### LIBRERIAS NECESARIAS"
   ]
  },
  {
   "cell_type": "code",
   "execution_count": 8,
   "metadata": {},
   "outputs": [],
   "source": [
    "from langchain_community.document_loaders import PyPDFLoader\n",
    "from langchain.vectorstores import Chroma \n",
    "from langchain.prompts import PromptTemplate\n",
    "from langchain_openai import ChatOpenAI, OpenAIEmbeddings\n",
    "from langchain_core.output_parsers import StrOutputParser\n",
    "from langchain_core.runnables import RunnablePassthrough\n",
    "import gradio as gr"
   ]
  },
  {
   "cell_type": "code",
   "execution_count": 10,
   "metadata": {},
   "outputs": [],
   "source": [
    "urls = [pdf1, pdf2, pdf3, pdf4, pdf5, pdf6] #lista de urls de los pdfs"
   ]
  },
  {
   "cell_type": "markdown",
   "metadata": {},
   "source": [
    "#### PREPOCESAMIENTO DE LA DOCUMENTACIÓN"
   ]
  },
  {
   "cell_type": "code",
   "execution_count": 11,
   "metadata": {},
   "outputs": [],
   "source": [
    "pages = []\n",
    "for url in urls:\n",
    "    loader = PyPDFLoader(url) #loader hace el download de los pdfs\n",
    "    pages += loader.load_and_split() #con pages los uno para que esten todos en un doc. split hace que sigan teniendo paginas separadas"
   ]
  },
  {
   "cell_type": "code",
   "execution_count": 12,
   "metadata": {},
   "outputs": [
    {
     "data": {
      "text/plain": [
       "931"
      ]
     },
     "execution_count": 12,
     "metadata": {},
     "output_type": "execute_result"
    }
   ],
   "source": [
    "len(pages) #verifico el numero de paginas para ver que se ha unido correctamente"
   ]
  },
  {
   "cell_type": "code",
   "execution_count": null,
   "metadata": {},
   "outputs": [],
   "source": [
    "pages[54] #acceder a pagina 54 por ejemplo"
   ]
  },
  {
   "cell_type": "markdown",
   "metadata": {},
   "source": [
    "#### CONFIGURACION DE LLM"
   ]
  },
  {
   "cell_type": "code",
   "execution_count": 15,
   "metadata": {},
   "outputs": [],
   "source": [
    "#creamos el llm para crear el modelo, aqui cogemos la info de la documentacion de platform open ai. Vamos a coger el modelo gpt3.5 con nuestra api key, le ponemos temperatura para definir el tono de respuesta, que no sea muy creativo\n",
    "llm = ChatOpenAI(model='gpt-3.5-turbo-0125', \n",
    "                 api_key='', \n",
    "                 temperature= 0)"
   ]
  },
  {
   "cell_type": "code",
   "execution_count": 18,
   "metadata": {},
   "outputs": [],
   "source": [
    "#ahora tenemos que hacer que la documentacion de pages aparezca como un vector para que sea legible. Lo que se llama embedding. Usamos directamente OpenAIEmbeddings\n",
    "embedding = OpenAIEmbeddings(api_key='')"
   ]
  },
  {
   "cell_type": "markdown",
   "metadata": {},
   "source": [
    "#### CREAR UN ALMACEN PARA ESOS VECTORES (DB)"
   ]
  },
  {
   "cell_type": "code",
   "execution_count": 20,
   "metadata": {},
   "outputs": [],
   "source": [
    "# para crear la DB usamos Chroma\n",
    "vectorstore = Chroma.from_documents(\n",
    "    documents = pages,\n",
    "    embedding = embedding, \n",
    "    )"
   ]
  },
  {
   "cell_type": "code",
   "execution_count": 21,
   "metadata": {},
   "outputs": [],
   "source": [
    "retriever = vectorstore.as_retriever() # nos permite recuperar documentos similares a un texto de entrada"
   ]
  },
  {
   "cell_type": "markdown",
   "metadata": {},
   "source": [
    "#### PROMPTING DE COMPORTAMIENTO\n",
    "Vamos a definir como entramos en esa DB"
   ]
  },
  {
   "cell_type": "code",
   "execution_count": 22,
   "metadata": {},
   "outputs": [],
   "source": [
    "template = \"\"\" \n",
    "\n",
    "        ###INSTRUCCIONES: \n",
    "        Eres un asistente IA del gobierno de España dedicado a responder preguntas empresariales de manera educada y profesional. Debes proporcionar una respuesta útil al usuario. \n",
    "        \n",
    "        En tu respuesta, POR FAVOR SIEMPRE:\n",
    "          (0) Sé un lector atento a los detalles: lee la pregunta y el contexto y entiende ambos antes de responder.\n",
    "          (1) Comienza tu respuesta con un tono amigable y reitera la pregunta para que el usuario esté seguro de que la entendiste.\n",
    "          (2) Si el contexto te permite responder a la pregunta, escribe una respuesta detallada y técnica, útil y fácil de entender, con fuentes referenciadas en el texto. SI NO: no puedes encontrar la respuesta, responde con una explicación, comenzando con: \"No pude encontrar la información en las leyes y documentos a los que tengo acceso\".\n",
    "          (3) Debajo de la respuesta, por favor enumera todas las fuentes referenciadas (es decir, párrafos legales que respaldan tus afirmaciones).\n",
    "          (4) Ahora que tienes tu respuesta, fantástico - revisa tu respuesta para asegurarte de que respondes a la pregunta, esta respuesta es útil y profesional , formateada para ser fácilmente legible.\n",
    "        \n",
    "        \n",
    "        PIENSA PASO POR PASO \n",
    "        ###\n",
    "        \n",
    "      Responde a la siguiente pregunta utilizando el contexto proporcionado.\n",
    "        ### Question: {question} ###\n",
    "        ### Context: {context} ###     \n",
    "        ### Respuesta Útil con Fuentes:\n",
    "\n",
    "\"\"\""
   ]
  },
  {
   "cell_type": "code",
   "execution_count": 23,
   "metadata": {},
   "outputs": [],
   "source": [
    "prompt = PromptTemplate.from_template(template)"
   ]
  },
  {
   "cell_type": "markdown",
   "metadata": {},
   "source": [
    "#### CADENA O CHAIN\n"
   ]
  },
  {
   "cell_type": "code",
   "execution_count": 28,
   "metadata": {},
   "outputs": [],
   "source": [
    "chain = (\n",
    "    {'context': retriever, 'question': RunnablePassthrough()}\n",
    "    | prompt\n",
    "    | llm\n",
    "    | StrOutputParser()\n",
    ")"
   ]
  },
  {
   "cell_type": "markdown",
   "metadata": {},
   "source": [
    "#### PREGUNTA DE CONTROL"
   ]
  },
  {
   "cell_type": "code",
   "execution_count": 29,
   "metadata": {},
   "outputs": [
    {
     "name": "stdout",
     "output_type": "stream",
     "text": [
      "¡Hola! Para montar una Sociedad de Responsabilidad Limitada (SL) en España, necesitarás la siguiente documentación:\n",
      "\n",
      "1. Documento de identidad de los socios.\n",
      "2. Certificación negativa de la denominación social que demuestre que no existe otra sociedad con el mismo nombre.\n",
      "3. Estatutos sociales.\n",
      "4. Acreditación del desembolso del capital social, ya sea en efectivo o mediante certificación bancaria.\n",
      "5. En caso de realizar aportaciones no dinerarias, se requerirá un informe de experto sobre su valoración o un informe sustitutivo del administrador.\n",
      "6. Relación detallada de los bienes aportados, incluyendo descripción, valoración y numeración de acciones o participaciones.\n",
      "\n",
      "Además, al solicitar la inscripción en el Registro Mercantil, deberás presentar:\n",
      "1. Escritura Pública de constitución de la Sociedad.\n",
      "2. Fotocopia del Número de Identificación Fiscal (NIF).\n",
      "3. Liquidación del Impuesto de Transmisiones Patrimoniales.\n",
      "\n",
      "Recuerda que estos son los documentos básicos necesarios, y dependiendo de la naturaleza de tu sociedad (por ejemplo, si es una sociedad cooperativa, agraria de transformación, etc.), podrían requerirse documentos adicionales específicos.\n",
      "\n",
      "Fuentes:\n",
      "- https://ipyme.org/PUBLICACIONES_EMPRESAS/Ciclo%20Vital%20de%20la%20Empresa/CreacionEmpresas.pdf (páginas 96, 100)\n",
      "- https://ipyme.org/PUBLICACIONES_EMPRESAS/Ciclo%20Vital%20de%20la%20Empresa/CreacionEmpresas.pdf (página 40)\n"
     ]
    }
   ],
   "source": [
    "ans = chain.invoke('Que documentacion necesito para montar una SL en España')\n",
    "print(ans)"
   ]
  },
  {
   "cell_type": "markdown",
   "metadata": {},
   "source": [
    "#### FUNCIÓN DE RESPUESTA"
   ]
  },
  {
   "cell_type": "code",
   "execution_count": 31,
   "metadata": {},
   "outputs": [],
   "source": [
    "def get_answer(question):\n",
    "    return chain.invoke(question)"
   ]
  },
  {
   "cell_type": "markdown",
   "metadata": {},
   "source": [
    "#### INTERFAZ DE PRUEBA"
   ]
  },
  {
   "cell_type": "code",
   "execution_count": 32,
   "metadata": {},
   "outputs": [
    {
     "name": "stdout",
     "output_type": "stream",
     "text": [
      "Running on local URL:  http://127.0.0.1:7860\n",
      "\n",
      "To create a public link, set `share=True` in `launch()`.\n"
     ]
    },
    {
     "data": {
      "text/html": [
       "<div><iframe src=\"http://127.0.0.1:7860/\" width=\"100%\" height=\"500\" allow=\"autoplay; camera; microphone; clipboard-read; clipboard-write;\" frameborder=\"0\" allowfullscreen></iframe></div>"
      ],
      "text/plain": [
       "<IPython.core.display.HTML object>"
      ]
     },
     "metadata": {},
     "output_type": "display_data"
    },
    {
     "data": {
      "text/plain": []
     },
     "execution_count": 32,
     "metadata": {},
     "output_type": "execute_result"
    }
   ],
   "source": [
    "iface = gr.Interface(fn=get_answer, inputs=gr.Textbox(\n",
    "    value=\"Pregúntame lo que necesites\"),\n",
    "    live=False, \n",
    "    outputs=\"markdown\",  \n",
    "    title=\"Inteligencia sobre documentación mediante LLM, APIS y DBVectoriales\",\n",
    "    description=\"Puedes preguntar cualquier pregunta la creación de empresas en España\",\n",
    "    theme=gr.themes.Soft(),\n",
    "    allow_flagging=\"never\",)\n",
    "\n",
    "iface.launch()"
   ]
  },
  {
   "cell_type": "markdown",
   "metadata": {},
   "source": [
    "#### GUARDAMOS NUESTRA DB CHROMA EN UN ARCHIVO"
   ]
  },
  {
   "cell_type": "code",
   "execution_count": 37,
   "metadata": {},
   "outputs": [],
   "source": [
    "#CHROMA SAVING IN SQLITE\n",
    "persist_directory = \"chromadb\"\n",
    "vectordb = Chroma.from_documents(documents=pages, embedding=embedding,\n",
    "                                 persist_directory=persist_directory)\n",
    "vectordb.persist()"
   ]
  },
  {
   "cell_type": "markdown",
   "metadata": {},
   "source": []
  }
 ],
 "metadata": {
  "kernelspec": {
   "display_name": "Python 3",
   "language": "python",
   "name": "python3"
  },
  "language_info": {
   "codemirror_mode": {
    "name": "ipython",
    "version": 3
   },
   "file_extension": ".py",
   "mimetype": "text/x-python",
   "name": "python",
   "nbconvert_exporter": "python",
   "pygments_lexer": "ipython3",
   "version": "3.9.6"
  }
 },
 "nbformat": 4,
 "nbformat_minor": 2
}
